{
 "cells": [
  {
   "cell_type": "code",
   "execution_count": 1,
   "metadata": {},
   "outputs": [],
   "source": [
    "import numpy as np\n",
    "import matplotlib.pyplot as plt\n",
    "import time\n",
    "from math import floor"
   ]
  },
  {
   "cell_type": "code",
   "execution_count": 4,
   "metadata": {},
   "outputs": [],
   "source": [
    "def generate_random_matrix(size):\n",
    "    return np.random.uniform(1e-8, 1.0, (size, size))"
   ]
  },
  {
   "cell_type": "markdown",
   "metadata": {},
   "source": [
    "## Rekurencyjna eliminacja Gaussa"
   ]
  },
  {
   "cell_type": "code",
   "execution_count": 156,
   "metadata": {},
   "outputs": [],
   "source": [
    "def recursive_gaussian_elimination(A, b):\n",
    "\n",
    "    n = A.shape[0]\n",
    "\n",
    "    if n == 1:\n",
    "        return np.array([b[0] / A[0, 0]])\n",
    "    \n",
    "    mid = n // 2\n",
    "    A11 = A[:mid, :mid]\n",
    "    A12 = A[:mid, mid:]\n",
    "    A21 = A[mid:, :mid]\n",
    "    A22 = A[mid:, mid:]\n",
    "\n",
    "    b1 = b[:mid]\n",
    "    b2 = b[mid:]\n",
    "\n",
    "    b_prime = b2 - A21 @ np.linalg.solve(A11, b1)\n",
    "\n",
    "    S = A22 - A21 @ np.linalg.solve(A11, A12)\n",
    "\n",
    "    x2 = recursive_gaussian_elimination(S, b_prime)\n",
    "\n",
    "    x1 = np.linalg.solve(A11, b1 - A12 @ x2)\n",
    "    \n",
    "    x = np.concatenate((x1, x2))\n",
    "\n",
    "    return x"
   ]
  },
  {
   "cell_type": "code",
   "execution_count": 161,
   "metadata": {},
   "outputs": [
    {
     "name": "stdout",
     "output_type": "stream",
     "text": [
      "Test passed for random square matrices of sizes 1x1 to 100x100\n"
     ]
    }
   ],
   "source": [
    "start = 1\n",
    "stop = 100\n",
    "\n",
    "for test_num in range(start, stop+1):\n",
    "    A = generate_random_matrix(test_num)\n",
    "    b = np.random.rand(test_num)\n",
    "\n",
    "    while np.linalg.det(A) == 0:\n",
    "        A = generate_random_matrix(test_num)\n",
    "\n",
    "    x_recursive = recursive_gaussian_elimination(A, b)\n",
    "    x_numpy = np.linalg.solve(A, b)\n",
    "    \n",
    "    if np.allclose(x_recursive, x_numpy):\n",
    "        # print(f\"Test passed for random A of size {test_num}x{test_num}\")\n",
    "        continue\n",
    "    else:\n",
    "        print(f\"Test failed for random square matrices of size {test_num}x{test_num}\")\n",
    "        print(\"Solution using recursive inverse:\")\n",
    "        print(x_recursive)\n",
    "\n",
    "        print(\"Expected solution:\")\n",
    "        print(x_numpy)\n",
    "        break\n",
    "else:\n",
    "    print(f\"Test passed for random square matrices of sizes {start}x{start} to {stop}x{stop}\")"
   ]
  },
  {
   "cell_type": "markdown",
   "metadata": {},
   "source": [
    "## Rekurencyjne odwracanie macierzy"
   ]
  },
  {
   "cell_type": "code",
   "execution_count": 55,
   "metadata": {},
   "outputs": [],
   "source": [
    "def recursive_matrix_inverse(A):\n",
    "    n = A.shape[0]\n",
    "\n",
    "    if n == 1:\n",
    "        return np.array([[1 / A[0, 0]]])\n",
    "    \n",
    "    mid = n // 2\n",
    "    A11 = A[:mid, :mid]\n",
    "    A12 = A[:mid, mid:]\n",
    "    A21 = A[mid:, :mid]\n",
    "    A22 = A[mid:, mid:]\n",
    "\n",
    "    A11_inv = recursive_matrix_inverse(A11)\n",
    "\n",
    "    S = A22 - A21 @ A11_inv @ A12\n",
    "\n",
    "    S_inv = recursive_matrix_inverse(S)\n",
    "    B11 = A11_inv + A11_inv @ A12 @ S_inv @ A21 @ A11_inv\n",
    "    B12 = -A11_inv @ A12 @ S_inv\n",
    "    B21 = -S_inv @ A21 @ A11_inv\n",
    "    B22 = S_inv\n",
    "\n",
    "    A_inverse = np.vstack((\n",
    "        np.hstack((B11, B12)),\n",
    "        np.hstack((B21, B22))\n",
    "        ))\n",
    "\n",
    "    return A_inverse"
   ]
  },
  {
   "cell_type": "code",
   "execution_count": 140,
   "metadata": {},
   "outputs": [
    {
     "name": "stdout",
     "output_type": "stream",
     "text": [
      "Test passed for random matrices of sizes 1x1 to 50x50 \n"
     ]
    }
   ],
   "source": [
    "start = 1\n",
    "stop = 50\n",
    "\n",
    "for test_num in range(start, stop+1):\n",
    "    matrix = generate_random_matrix(test_num)\n",
    "\n",
    "    while np.linalg.det(matrix) == 0:\n",
    "        matrix = generate_random_matrix(test_num)\n",
    "    \n",
    "    matrix_inv_recursive = recursive_matrix_inverse(matrix)\n",
    "    matrix_inv_numpy = np.linalg.inv(matrix)\n",
    "\n",
    "    if np.allclose(matrix_inv_recursive, matrix_inv_numpy):\n",
    "        # print(f\"Test passed for random matrix of size {test_num}x{test_num}\")\n",
    "        continue\n",
    "    else:\n",
    "        print(f\"Test failed for random matrix of size {test_num}x{test_num}\")\n",
    "        print(\"Solution using recursive inverse:\")\n",
    "        print(matrix_inv_recursive)\n",
    "\n",
    "        print(\"Expected solution:\")\n",
    "        print(matrix_inv_numpy)\n",
    "        break\n",
    "else:\n",
    "    print(f\"Test passed for random square matrices of sizes {start}x{start} to {stop}x{stop}\")"
   ]
  },
  {
   "cell_type": "markdown",
   "metadata": {},
   "source": [
    "## Rekurencyjna LU faktoryzacja "
   ]
  },
  {
   "cell_type": "code",
   "execution_count": 141,
   "metadata": {},
   "outputs": [],
   "source": [
    "def lu_recursive(A):\n",
    "    n = A.shape[0]\n",
    "\n",
    "    if n == 1:\n",
    "        return np.array([[1]]), np.array([[A[0,0]]])\n",
    "    \n",
    "    mid = (n + 1) // 2\n",
    "    A11 = A[:mid, :mid]\n",
    "    A12 = A[:mid, mid:]\n",
    "    A21 = A[mid:, :mid]\n",
    "    A22 = A[mid:, mid:]\n",
    "\n",
    "    L11, U11 = lu_recursive(A11)\n",
    "    U11_inv = np.linalg.inv(U11)\n",
    "    L11_inv = np.linalg.inv(L11)\n",
    "\n",
    "    L21 = A21 @ U11_inv\n",
    "    U12 = L11_inv @ A12 \n",
    "\n",
    "    if A22.size > 0:\n",
    "        S = A22 - L21 @ U12\n",
    "        Ls, Us = lu_recursive(S)\n",
    "    else:\n",
    "        Ls, Us = np.empty_like(L21), np.empty_like(U12)\n",
    "\n",
    "    L = np.block([\n",
    "        [L11, np.zeros((mid, A.shape[1] - mid))],\n",
    "        [L21, Ls]\n",
    "    ])\n",
    "\n",
    "    U = np.block([\n",
    "        [U11, U12],\n",
    "        [np.zeros((A.shape[0] - mid, mid)), Us]\n",
    "    ])\n",
    "\n",
    "    return L, U"
   ]
  },
  {
   "cell_type": "code",
   "execution_count": 142,
   "metadata": {},
   "outputs": [
    {
     "name": "stdout",
     "output_type": "stream",
     "text": [
      "Test passed for random square matrices of sizes 1x1 to 50x50\n"
     ]
    }
   ],
   "source": [
    "start = 1\n",
    "stop = 50\n",
    "\n",
    "for test_num in range(start, stop+1):\n",
    "    matrix = generate_random_matrix(test_num)\n",
    "    \n",
    "    L, U = lu_recursive(matrix)\n",
    "    matrix_reconstructed = L @ U\n",
    "\n",
    "    if np.allclose(matrix, matrix_reconstructed):\n",
    "        # print(f\"Test passed for random matrix of size {test_num}x{test_num}\")\n",
    "        continue\n",
    "\n",
    "    else:\n",
    "        print(f\"Test failed for random matrix of size {test_num}x{test_num}\")\n",
    "        print(\"Solution using lu recursive:\")\n",
    "        print(matrix_inv_recursive)\n",
    "\n",
    "        print(\"Expected solution:\")\n",
    "        print(matrix_inv_numpy)\n",
    "        break\n",
    "else:\n",
    "    print(f\"Test passed for random square matrices of sizes {start}x{start} to {stop}x{stop}\")"
   ]
  },
  {
   "cell_type": "markdown",
   "metadata": {},
   "source": [
    "## Rekurencyjne obliczanie wyznacznika macierzy"
   ]
  },
  {
   "cell_type": "code",
   "execution_count": 110,
   "metadata": {},
   "outputs": [],
   "source": [
    "def recursive_determinant_lu(A):\n",
    "    L, U = lu_recursive(A)\n",
    "    return np.prod(np.diag(L)) * np.prod(np.diag(U))"
   ]
  },
  {
   "cell_type": "code",
   "execution_count": 152,
   "metadata": {},
   "outputs": [
    {
     "name": "stdout",
     "output_type": "stream",
     "text": [
      "Test passed for random square matrices of sizes 1x1 to 50x50\n"
     ]
    }
   ],
   "source": [
    "start = 1\n",
    "stop = 50\n",
    "\n",
    "for test_num in range(start, stop+1):\n",
    "    A = generate_random_matrix(test_num)\n",
    "\n",
    "    A_det_recursive = recursive_determinant_lu(A)\n",
    "    A_det_numpy = np.linalg.det(A)    \n",
    "    \n",
    "    if np.allclose(A_det_recursive, A_det_numpy):\n",
    "        # print(f\"Test passed for random A of size {test_num}x{test_num}\")\n",
    "        continue\n",
    "    else:\n",
    "        print(f\"Test failed for random square matrices of size {test_num}x{test_num}\")\n",
    "        print(\"Solution using recursive inverse:\")\n",
    "        print(A_det_recursive)\n",
    "\n",
    "        print(\"Expected solution:\")\n",
    "        print(A_det_numpy)\n",
    "        break\n",
    "else:\n",
    "    print(f\"Test passed for random square matrices of sizes {start}x{start} to {stop}x{stop}\")"
   ]
  }
 ],
 "metadata": {
  "kernelspec": {
   "display_name": "Python 3",
   "language": "python",
   "name": "python3"
  },
  "language_info": {
   "codemirror_mode": {
    "name": "ipython",
    "version": 3
   },
   "file_extension": ".py",
   "mimetype": "text/x-python",
   "name": "python",
   "nbconvert_exporter": "python",
   "pygments_lexer": "ipython3",
   "version": "3.11.9"
  }
 },
 "nbformat": 4,
 "nbformat_minor": 2
}
