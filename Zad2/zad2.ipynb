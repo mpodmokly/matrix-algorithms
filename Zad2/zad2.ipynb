{
 "cells": [
  {
   "cell_type": "code",
   "execution_count": 2,
   "metadata": {},
   "outputs": [],
   "source": [
    "import numpy as np\n",
    "import matplotlib.pyplot as plt\n",
    "from time import time\n",
    "from scipy.optimize import curve_fit"
   ]
  },
  {
   "cell_type": "code",
   "execution_count": 7,
   "metadata": {},
   "outputs": [],
   "source": [
    "operation_count = 0\n",
    "np.random.seed(1)\n",
    "\n",
    "def generate_random_matrix(size):\n",
    "    return np.random.uniform(1e-8, 1.0, (size, size))\n",
    "\n",
    "def add_matrix(A, B):\n",
    "    global operation_count\n",
    "    operation_count += A.shape[0] * B.shape[0]\n",
    "    return A + B\n",
    "\n",
    "def sub_matrix(A, B):\n",
    "    global operation_count\n",
    "    operation_count += A.shape[0] * B.shape[0]\n",
    "    return A - B\n",
    "\n",
    "def next_power_of_two(n):\n",
    "    return 1 if n == 0 else 1 << n.bit_length()\n",
    "\n",
    "def pad_to_power_of_two(matrix, target_size):\n",
    "    padded_matrix = np.zeros((target_size, target_size))\n",
    "    padded_matrix[:matrix.shape[0], :matrix.shape[1]] = matrix\n",
    "    return padded_matrix\n",
    "\n",
    "def mul(A, B):\n",
    "    A_rows, A_cols = A.shape if A.ndim > 1 else (A.shape[0], 1)\n",
    "    B_rows, B_cols = B.shape if B.ndim > 1 else (B.shape[0], 1) \n",
    "\n",
    "    max_dim = max(A_rows, A_cols, B_rows, B_cols)\n",
    "    target_size = next_power_of_two(max_dim)\n",
    "\n",
    "    A_padded = pad_to_power_of_two(A, target_size)\n",
    "    if B.ndim == 1:\n",
    "        B_padded = np.zeros((target_size, target_size))\n",
    "        B_padded[:B.shape[0], 0] = B\n",
    "        return strassen_recursive(A_padded, B_padded)[:A.shape[0], 0]\n",
    "    \n",
    "    B_padded = pad_to_power_of_two(B, target_size)\n",
    "    return strassen_recursive(A_padded, B_padded)[:A.shape[0], :B.shape[1]]\n",
    "\n",
    "\n",
    "def strassen_recursive(A, B):\n",
    "    global operation_count\n",
    "\n",
    "    n = A.shape[0]\n",
    "    if n == 1:\n",
    "        operation_count += 1\n",
    "        return A * B\n",
    "    elif A[0 ,0] == 0:\n",
    "        return np.zeros_like(A)\n",
    "    \n",
    "    mid = n // 2\n",
    "\n",
    "    A11 = A[:mid, :mid]\n",
    "    A12 = A[:mid, mid:]\n",
    "    A21 = A[mid:, :mid]\n",
    "    A22 = A[mid:, mid:]\n",
    "\n",
    "    B11 = B[:mid, :mid]\n",
    "    B12 = B[:mid, mid:]\n",
    "    B21 = B[mid:, :mid]\n",
    "    B22 = B[mid:, mid:]\n",
    "\n",
    "    operation_count += mid * mid * 10 \n",
    "    P1 = strassen_recursive(A11 + A22, B11 + B22)\n",
    "    P2 = strassen_recursive(A21 + A22, B11)\n",
    "    P3 = strassen_recursive(A11, B12 - B22)\n",
    "    P4 = strassen_recursive(A22, B21 - B11)\n",
    "    P5 = strassen_recursive(A11 + A12, B22)\n",
    "    P6 = strassen_recursive(A21 - A11, B11 + B12)\n",
    "    P7 = strassen_recursive(A12 - A22, B21 + B22)\n",
    "\n",
    "    operation_count += mid * mid * 8\n",
    "    C11 = P1 + P4 - P5 + P7\n",
    "    C12 = P3 + P5\n",
    "    C21 = P2 + P4\n",
    "    C22 = P1 + P3 - P2 + P6\n",
    "\n",
    "    C = np.vstack((np.hstack((C11, C12)), np.hstack((C21, C22))))\n",
    "\n",
    "    return C"
   ]
  },
  {
   "cell_type": "code",
   "execution_count": null,
   "metadata": {},
   "outputs": [],
   "source": [
    "start = 1\n",
    "stop = 50\n",
    "operations1 = []\n",
    "\n",
    "for test_num in range(start, stop+1):\n",
    "    A = generate_random_matrix(test_num)\n",
    "    B = generate_random_matrix(test_num)\n",
    "    \n",
    "    operation_count = 0\n",
    "    matrix_mul = mul(A, B)\n",
    "    operations1.append(operation_count)\n",
    "    matrix_mul_numpy = A @ B\n",
    "\n",
    "    if np.allclose(matrix_mul, matrix_mul_numpy):\n",
    "        # print(f\"Test passed for random A of size {test_num}x{test_num}\")\n",
    "        continue\n",
    "    else:\n",
    "        print(f\"Test failed for random A of size {test_num}x{test_num}\")\n",
    "        print(\"Solution using recursive inverse:\")\n",
    "        print(matrix_mul)\n",
    "\n",
    "        print(\"Expected solution:\")\n",
    "        print(matrix_mul_numpy)\n",
    "        break\n",
    "else:\n",
    "    print(f\"Test passed for random square matrices of sizes {start}x{start} to {stop}x{stop}\")"
   ]
  },
  {
   "cell_type": "markdown",
   "metadata": {},
   "source": [
    "## Rekurencyjne odwracanie macierzy"
   ]
  },
  {
   "cell_type": "code",
   "execution_count": 9,
   "metadata": {},
   "outputs": [],
   "source": [
    "def recursive_matrix_inverse(A):\n",
    "    n = A.shape[0]\n",
    "\n",
    "    if n == 1:\n",
    "        return np.array([[1 / A[0, 0]]])\n",
    "    \n",
    "    mid = n // 2\n",
    "    A11 = A[:mid, :mid]\n",
    "    A12 = A[:mid, mid:]\n",
    "    A21 = A[mid:, :mid]\n",
    "    A22 = A[mid:, mid:]\n",
    "\n",
    "    A11_inv = recursive_matrix_inverse(A11)\n",
    "\n",
    "    S = A22 - mul(mul(A21, A11_inv), A12)\n",
    "\n",
    "    S_inv = recursive_matrix_inverse(S)\n",
    "    B11 = A11_inv + mul(mul(mul(mul(A11_inv, A12), S_inv), A21), A11_inv)\n",
    "    B12 = mul(mul(-A11_inv, A12), S_inv)\n",
    "    B21 = mul(mul(-S_inv, A21), A11_inv)\n",
    "    B22 = S_inv\n",
    "\n",
    "    A_inverse = np.vstack((\n",
    "        np.hstack((B11, B12)),\n",
    "        np.hstack((B21, B22))\n",
    "        ))\n",
    "\n",
    "    return A_inverse"
   ]
  },
  {
   "cell_type": "code",
   "execution_count": null,
   "metadata": {},
   "outputs": [],
   "source": [
    "start = 1\n",
    "stop = 30\n",
    "\n",
    "for test_num in range(start, stop+1):\n",
    "    matrix = generate_random_matrix(test_num)\n",
    "\n",
    "    while np.linalg.det(matrix) == 0:\n",
    "        matrix = generate_random_matrix(test_num)\n",
    "    \n",
    "    matrix_inv_recursive = recursive_matrix_inverse(matrix)\n",
    "    matrix_inv_numpy = np.linalg.inv(matrix)\n",
    "\n",
    "    if np.allclose(matrix_inv_recursive, matrix_inv_numpy):\n",
    "        # print(f\"Test passed for random matrix of size {test_num}x{test_num}\")\n",
    "        continue\n",
    "    else:\n",
    "        print(f\"Test failed for random matrix of size {test_num}x{test_num}\")\n",
    "        print(\"Solution using recursive inverse:\")\n",
    "        print(matrix_inv_recursive)\n",
    "\n",
    "        print(\"Expected solution:\")\n",
    "        print(matrix_inv_numpy)\n",
    "        break\n",
    "else:\n",
    "    print(f\"Test passed for random square matrices of sizes {start}x{start} to {stop}x{stop}\")"
   ]
  },
  {
   "cell_type": "markdown",
   "metadata": {},
   "source": [
    "## Rekurencyjna LU faktoryzacja "
   ]
  },
  {
   "cell_type": "code",
   "execution_count": 22,
   "metadata": {},
   "outputs": [],
   "source": [
    "def lu_recursive(A):\n",
    "    n = A.shape[0]\n",
    "\n",
    "    if n == 1:\n",
    "        return np.array([[1]]), np.array([[A[0,0]]])\n",
    "    \n",
    "    mid = (n + 1) // 2\n",
    "    A11 = A[:mid, :mid]\n",
    "    A12 = A[:mid, mid:]\n",
    "    A21 = A[mid:, :mid]\n",
    "    A22 = A[mid:, mid:]\n",
    "\n",
    "    L11, U11 = lu_recursive(A11)\n",
    "    U11_inv = recursive_matrix_inverse(U11)\n",
    "    L11_inv = recursive_matrix_inverse(L11)\n",
    "\n",
    "    L21 = mul(A21, U11_inv)\n",
    "    U12 = mul(L11_inv, A12) \n",
    "\n",
    "    S = A22 - mul(L21, U12)\n",
    "    Ls, Us = lu_recursive(S)\n",
    "\n",
    "    L = np.block([\n",
    "        [L11, np.zeros((mid, A.shape[1] - mid))],\n",
    "        [L21, Ls]\n",
    "    ])\n",
    "\n",
    "    U = np.block([\n",
    "        [U11, U12],\n",
    "        [np.zeros((A.shape[0] - mid, mid)), Us]\n",
    "    ])\n",
    "\n",
    "    return L, U"
   ]
  },
  {
   "cell_type": "code",
   "execution_count": 65,
   "metadata": {},
   "outputs": [
    {
     "name": "stdout",
     "output_type": "stream",
     "text": [
      "Test passed for random square matrices of sizes 1x1 to 40x40\n"
     ]
    }
   ],
   "source": [
    "start = 1\n",
    "stop = 40\n",
    "\n",
    "for test_num in range(start, stop+1):\n",
    "    matrix = generate_random_matrix(test_num)\n",
    "    \n",
    "    L, U = lu_recursive(matrix)\n",
    "    matrix_reconstructed = L @ U\n",
    "\n",
    "    if np.allclose(matrix, matrix_reconstructed):\n",
    "        # print(f\"Test passed for random matrix of size {test_num}x{test_num}\")\n",
    "        continue\n",
    "\n",
    "    else:\n",
    "        print(f\"Test failed for random matrix of size {test_num}x{test_num}\")\n",
    "        print(\"Solution using lu recursive:\")\n",
    "        print(matrix_inv_recursive)\n",
    "\n",
    "        print(\"Expected solution:\")\n",
    "        print(matrix_inv_numpy)\n",
    "        break\n",
    "else:\n",
    "    print(f\"Test passed for random square matrices of sizes {start}x{start} to {stop}x{stop}\")"
   ]
  },
  {
   "cell_type": "markdown",
   "metadata": {},
   "source": [
    "## Rekurencyjne obliczanie wyznacznika macierzy"
   ]
  },
  {
   "cell_type": "code",
   "execution_count": 28,
   "metadata": {},
   "outputs": [],
   "source": [
    "def recursive_determinant_lu(A):\n",
    "    L, U = lu_recursive(A)\n",
    "    return np.prod(np.diag(L)) * np.prod(np.diag(U))"
   ]
  },
  {
   "cell_type": "code",
   "execution_count": null,
   "metadata": {},
   "outputs": [],
   "source": [
    "start = 1\n",
    "stop = 50\n",
    "\n",
    "for test_num in range(start, stop+1):\n",
    "    A = generate_random_matrix(test_num)\n",
    "\n",
    "    A_det_recursive = recursive_determinant_lu(A)\n",
    "    A_det_numpy = np.linalg.det(A)    \n",
    "    \n",
    "    if np.allclose(A_det_recursive, A_det_numpy):\n",
    "        # print(f\"Test passed for random A of size {test_num}x{test_num}\")\n",
    "        continue\n",
    "    else:\n",
    "        print(f\"Test failed for random square matrices of size {test_num}x{test_num}\")\n",
    "        print(\"Solution using recursive determinant:\")\n",
    "        print(A_det_recursive)\n",
    "\n",
    "        print(\"Expected solution:\")\n",
    "        print(A_det_numpy)\n",
    "        break\n",
    "else:\n",
    "    print(f\"Test passed for random square matrices of sizes {start}x{start} to {stop}x{stop}\")"
   ]
  },
  {
   "cell_type": "markdown",
   "metadata": {},
   "source": [
    "## Rekurencyjna eliminacja Gaussa"
   ]
  },
  {
   "cell_type": "code",
   "execution_count": 38,
   "metadata": {},
   "outputs": [],
   "source": [
    "def recursive_gaussian_elimination(A, b):\n",
    "    n = A.shape[0]\n",
    "\n",
    "    if n == 1:\n",
    "        return np.array([b[0] / A[0, 0]])\n",
    "    \n",
    "    mid = n // 2\n",
    "    A11 = A[:mid, :mid]\n",
    "    A12 = A[:mid, mid:]\n",
    "    A21 = A[mid:, :mid]\n",
    "    A22 = A[mid:, mid:]\n",
    "\n",
    "    b1 = b[:mid]\n",
    "    b2 = b[mid:]\n",
    "\n",
    "    L11, U11 = lu_recursive(A11)\n",
    "\n",
    "    L11_inv = recursive_matrix_inverse(L11)\n",
    "    U11_inv = recursive_matrix_inverse(U11)\n",
    "\n",
    "    S = A22 - mul(mul(mul(A21, U11_inv), L11_inv), A12)\n",
    "\n",
    "    Ls, Us = lu_recursive(S)\n",
    "    Ls_inv = recursive_matrix_inverse(Ls)\n",
    "    Us_inv = recursive_matrix_inverse(Us)\n",
    "\n",
    "    RHS1 = mul(L11_inv, b1)\n",
    "    RHS2 = sub_matrix(mul(Ls_inv, b2), mul(mul(mul(Ls_inv, A21), U11_inv), RHS1))\n",
    "\n",
    "    x2 = mul(Us_inv, RHS2)\n",
    "    x1 = sub_matrix(mul(U11_inv, RHS1), mul(mul(mul(U11_inv, L11_inv), A12), x2))\n",
    "    \n",
    "    x = np.concatenate((x1, x2))\n",
    "\n",
    "    return x"
   ]
  },
  {
   "cell_type": "code",
   "execution_count": null,
   "metadata": {},
   "outputs": [],
   "source": [
    "start = 1\n",
    "stop = 25\n",
    "\n",
    "for test_num in range(start, stop+1):\n",
    "    A = generate_random_matrix(test_num)\n",
    "    b = np.random.rand(test_num)\n",
    "\n",
    "    while np.linalg.det(A) == 0:\n",
    "        A = generate_random_matrix(test_num)\n",
    "\n",
    "    x_recursive = recursive_gaussian_elimination(A, b)\n",
    "    x_numpy = np.linalg.solve(A, b)\n",
    "    \n",
    "    if np.allclose(x_recursive, x_numpy):\n",
    "        # print(f\"Test passed for random A of size {test_num}x{test_num}\")\n",
    "        continue\n",
    "    else:\n",
    "        print(f\"Test failed for random square matrices of size {test_num}x{test_num}\")\n",
    "        print(\"Solution using recursive Gaussian elimination:\")\n",
    "        print(x_recursive)\n",
    "\n",
    "        print(\"Expected solution:\")\n",
    "        print(x_numpy)\n",
    "        break\n",
    "else:\n",
    "    print(f\"Test passed for random square matrices of sizes {start}x{start} to {stop}x{stop}\")"
   ]
  },
  {
   "cell_type": "markdown",
   "metadata": {},
   "source": [
    "## Testy wydajnościowe zaimplementowanych funkcji rekurencyjnych"
   ]
  },
  {
   "cell_type": "code",
   "execution_count": 13,
   "metadata": {},
   "outputs": [],
   "source": [
    "def draw_times(times, title):\n",
    "    xs = [i for i in range(1, 201)]\n",
    "    plt.figure(figsize=(10,8))\n",
    "    plt.plot(xs, times, color=\"blue\", marker='o')\n",
    "    plt.title(title)\n",
    "    plt.xlabel('Matrix size')\n",
    "    plt.ylabel('time')\n",
    "    plt.show()"
   ]
  },
  {
   "cell_type": "code",
   "execution_count": 25,
   "metadata": {},
   "outputs": [],
   "source": [
    "def draw_all(xs, ylabel, inv_times, lu_times, det_times, elimination_times, save_as=None, marker=''):\n",
    "    # xs = [i for i in range(1, 301)]\n",
    "    fig, axs = plt.subplots(2, 2, figsize=(16,10))\n",
    "    axs[0, 0].plot(xs, inv_times, color='blue', marker=marker)\n",
    "    axs[0, 0].set_title('Rekurencyjne odwracanie macierzy')\n",
    "\n",
    "    axs[0, 1].plot(xs, lu_times, color='orange', marker=marker)\n",
    "    axs[0, 1].set_title('Rekurencyjna LU faktoryzacja')\n",
    "\n",
    "    axs[1, 0].plot(xs, det_times, color='green', marker=marker)\n",
    "    axs[1, 0].set_title('Rekurencyjne obliczanie wyznacznika')\n",
    "\n",
    "    axs[1, 1].plot(xs, elimination_times, color='red', marker=marker)\n",
    "    axs[1, 1].set_title('Rekurencyjna eliminacja Gaussa')\n",
    "\n",
    "    for ax in axs.flat:\n",
    "        ax.set(xlabel='Matrix size', ylabel=ylabel)\n",
    "\n",
    "    if save_as is not None:\n",
    "        fig.savefig(save_as)\n",
    "\n",
    "    plt.show()"
   ]
  },
  {
   "cell_type": "code",
   "execution_count": 15,
   "metadata": {},
   "outputs": [],
   "source": [
    "\n",
    "def test_inv(xs, A=None):\n",
    "    global operation_count\n",
    "    if A is None:\n",
    "        inv_times = []\n",
    "        inv_flops = []\n",
    "        for size in xs:\n",
    "            print(f'Computing matrix: {size}x{size}')\n",
    "            A = generate_random_matrix(size)\n",
    "\n",
    "            operation_count = 0\n",
    "            start = time()\n",
    "            A_inv = recursive_matrix_inverse(A)\n",
    "            inv_times.append(time() - start)\n",
    "            inv_flops.append(operation_count)\n",
    "        return (inv_times, inv_flops)\n",
    "\n",
    "    else:\n",
    "        operation_count = 0\n",
    "        start = time()\n",
    "        A_inv = recursive_matrix_inverse(A)\n",
    "        return time() - start, operation_count\n",
    "    \n",
    "def test_lu(xs, A=None):\n",
    "    global operation_count\n",
    "    if A is None:\n",
    "        lu_times = []\n",
    "        lu_flops = []\n",
    "        for size in xs:\n",
    "            print(f'Computing matrix: {size}x{size}')\n",
    "            A = generate_random_matrix(size)\n",
    "\n",
    "            operation_count = 0\n",
    "            start = time()\n",
    "            L, U = lu_recursive(A)\n",
    "            lu_times.append(time() - start)\n",
    "            lu_flops.append(operation_count)\n",
    "        return (lu_times, lu_flops)\n",
    "\n",
    "    else:\n",
    "        operation_count = 0\n",
    "        start = time()\n",
    "        L, U = lu_recursive(A)\n",
    "        return time() - start, operation_count\n",
    "    \n",
    "def test_det(xs, A=None):\n",
    "    global operation_count\n",
    "    if A is None:\n",
    "        det_times = []\n",
    "        det_flops = []\n",
    "        for size in xs:\n",
    "            print(f'Computing matrix: {size}x{size}')\n",
    "            A = generate_random_matrix(size)\n",
    "\n",
    "            operation_count = 0\n",
    "            start = time()\n",
    "            det = recursive_determinant_lu(A)\n",
    "            det_times.append(time() - start)\n",
    "            det_flops.append(operation_count)\n",
    "        return (det_times, det_flops)\n",
    "\n",
    "    else:\n",
    "        operation_count = 0\n",
    "        start = time()\n",
    "        det = recursive_determinant_lu(A)\n",
    "        return time() - start, operation_count\n",
    "    \n",
    "def test_elimination(xs, A=None):\n",
    "    global operation_count\n",
    "    if A is None:\n",
    "        elimination_times = []\n",
    "        elimination_flops = []\n",
    "        for size in xs:\n",
    "            print(f'Computing matrix: {size}x{size}')\n",
    "            A = generate_random_matrix(size)\n",
    "            b = np.random.rand(size)\n",
    "\n",
    "            operation_count = 0\n",
    "            start = time()\n",
    "            x = recursive_gaussian_elimination(A, b)\n",
    "            elimination_times.append(time() - start)\n",
    "            elimination_flops.append(operation_count)\n",
    "        return (elimination_times, elimination_flops)\n",
    "\n",
    "    else:\n",
    "        b = np.random.rand(xs)\n",
    "        operation_count = 0\n",
    "        start = time()\n",
    "        x = recursive_gaussian_elimination(A, b)\n",
    "        return time() - start, operation_count\n",
    "    \n",
    "\n",
    "def test_all(xs):\n",
    "    inv_times = []\n",
    "    det_times = []\n",
    "    lu_times = []\n",
    "    elimination_times = []\n",
    "\n",
    "    inv_flops = []\n",
    "    det_flops = []\n",
    "    lu_flops = []\n",
    "    elimination_flops = []\n",
    "    for size in xs:\n",
    "        print(f'Computing matrix: {size}x{size}')\n",
    "        A = generate_random_matrix(size)\n",
    "\n",
    "        time, flops = test_inv(size, A)\n",
    "        inv_times.append(time)\n",
    "        inv_flops.append(flops)\n",
    "\n",
    "        time, flops = test_lu(size, A)\n",
    "        lu_times.append(time)\n",
    "        lu_flops.append(flops)\n",
    "\n",
    "        time, flops = test_det(size, A)\n",
    "        det_times.append(time)\n",
    "        det_flops.append(flops)\n",
    "\n",
    "        time, flops = test_elimination(size, A)\n",
    "        elimination_times.append(time)\n",
    "        elimination_flops.append(flops)\n",
    "\n",
    "    return (inv_times, inv_flops), (lu_times, lu_flops), (det_times, det_flops), (elimination_times, elimination_flops)\n"
   ]
  },
  {
   "cell_type": "code",
   "execution_count": null,
   "metadata": {},
   "outputs": [],
   "source": [
    "xs = [i for i in range(1, 201, 1)]\n",
    "inv_data, lu_data, det_data, elimination_data = test_all(xs)"
   ]
  },
  {
   "cell_type": "code",
   "execution_count": null,
   "metadata": {},
   "outputs": [],
   "source": [
    "draw_all(xs, 'Time [s]', inv_data[0], lu_data[0], det_data[0], elimination_data[0], 'times1.png')"
   ]
  },
  {
   "cell_type": "code",
   "execution_count": null,
   "metadata": {},
   "outputs": [],
   "source": [
    "draw_all(xs, 'Flops', inv_data[1], lu_data[1], det_data[1], elimination_data[1], 'flops1.png')"
   ]
  },
  {
   "cell_type": "markdown",
   "metadata": {},
   "source": [
    "## Oszacowanie złożoności obliczeniowej"
   ]
  },
  {
   "cell_type": "code",
   "execution_count": 1,
   "metadata": {},
   "outputs": [
    {
     "ename": "NameError",
     "evalue": "name 'np' is not defined",
     "output_type": "error",
     "traceback": [
      "\u001b[1;31m---------------------------------------------------------------------------\u001b[0m",
      "\u001b[1;31mNameError\u001b[0m                                 Traceback (most recent call last)",
      "Cell \u001b[1;32mIn[1], line 1\u001b[0m\n\u001b[1;32m----> 1\u001b[0m sizes \u001b[38;5;241m=\u001b[39m \u001b[43mnp\u001b[49m\u001b[38;5;241m.\u001b[39mlinspace(\u001b[38;5;241m8\u001b[39m, \u001b[38;5;241m100\u001b[39m, \u001b[38;5;241m40\u001b[39m, dtype\u001b[38;5;241m=\u001b[39mnp\u001b[38;5;241m.\u001b[39mint32)\n\u001b[0;32m      2\u001b[0m times \u001b[38;5;241m=\u001b[39m []\n\u001b[0;32m      4\u001b[0m \u001b[38;5;28;01mfor\u001b[39;00m n \u001b[38;5;129;01min\u001b[39;00m sizes:\n",
      "\u001b[1;31mNameError\u001b[0m: name 'np' is not defined"
     ]
    }
   ],
   "source": [
    "sizes = np.linspace(8, 100, 40, dtype=np.int32)\n",
    "times = []\n",
    "\n",
    "for n in sizes:\n",
    "    A = generate_random_matrix(n)\n",
    "    b = np.random.rand(n)\n",
    "    start = time()\n",
    "    x = recursive_gaussian_elimination(A, b)\n",
    "    times.append(time() - start)\n",
    "    print(f'Computed {n}x{n}')"
   ]
  },
  {
   "cell_type": "code",
   "execution_count": null,
   "metadata": {},
   "outputs": [
    {
     "name": "stdout",
     "output_type": "stream",
     "text": [
      "0.00039217317977771794 2.03\n"
     ]
    },
    {
     "data": {
      "image/png": "[encoded data removed]",
      "text/plain": [
       "<Figure size 640x480 with 1 Axes>"
      ]
     },
     "metadata": {},
     "output_type": "display_data"
    }
   ],
   "source": [
    "def model(x, a, deg):\n",
    "    return a * x ** deg\n",
    "\n",
    "\n",
    "w = curve_fit(model, sizes, times)[0]\n",
    "print(w[0], np.round(w[1], 2))\n",
    "\n",
    "plt.scatter(sizes, times)\n",
    "plt.plot(sizes, times)\n",
    "x = np.linspace(8, 100, 1000)\n",
    "plt.plot(x, model(x, w[0], w[1]))\n",
    "\n",
    "plt.xlabel(\"Rozmiar danych wejściowych\")\n",
    "plt.ylabel(\"Czas działania [s]\")\n",
    "plt.title(\"Dopasowanie krzywej złożoności\")\n",
    "plt.show()"
   ]
  },
  {
   "cell_type": "markdown",
   "metadata": {},
   "source": [
    "## Porównanie z NumPy"
   ]
  },
  {
   "cell_type": "code",
   "execution_count": 50,
   "metadata": {},
   "outputs": [
    {
     "name": "stdout",
     "output_type": "stream",
     "text": [
      "A =\n",
      "[[0.37792419 0.07962609 0.98281711 0.18161286]\n",
      " [0.8118587  0.87496165 0.68841326 0.56949442]\n",
      " [0.16097145 0.46688003 0.34517206 0.22503997]\n",
      " [0.59251187 0.31226984 0.91630555 0.90963553]]\n",
      "b = [0.25711829 0.1108913  0.19296273 0.49958417]\n"
     ]
    }
   ],
   "source": [
    "n = 4\n",
    "A = generate_random_matrix(n)\n",
    "b = np.random.rand(n)\n",
    "\n",
    "print(\"A =\")\n",
    "print(A)\n",
    "print(f\"b = {b}\")"
   ]
  },
  {
   "cell_type": "code",
   "execution_count": 51,
   "metadata": {},
   "outputs": [
    {
     "name": "stdout",
     "output_type": "stream",
     "text": [
      "Recursive matrix inverse:\n",
      "[[ 0.25937966  2.24335044 -3.92362951 -0.48558875]\n",
      " [-0.36655885  0.13950977  2.33953436 -0.59294844]\n",
      " [ 1.1739274  -0.73117143  1.22300866 -0.07918347]\n",
      " [-1.22565182 -0.77261717  0.52062765  1.69895878]]\n"
     ]
    }
   ],
   "source": [
    "A_inv = recursive_matrix_inverse(A)\n",
    "print(\"Recursive matrix inverse:\")\n",
    "print(A_inv)"
   ]
  },
  {
   "cell_type": "code",
   "execution_count": 57,
   "metadata": {},
   "outputs": [
    {
     "name": "stdout",
     "output_type": "stream",
     "text": [
      "NumPy matrix inverse:\n",
      "[[ 0.25937966  2.24335044 -3.92362951 -0.48558875]\n",
      " [-0.36655885  0.13950977  2.33953436 -0.59294844]\n",
      " [ 1.1739274  -0.73117143  1.22300866 -0.07918347]\n",
      " [-1.22565182 -0.77261717  0.52062765  1.69895878]]\n"
     ]
    }
   ],
   "source": [
    "A_inv_np = np.linalg.inv(A)\n",
    "print(\"NumPy matrix inverse:\")\n",
    "print(A_inv_np)"
   ]
  },
  {
   "cell_type": "code",
   "execution_count": 67,
   "metadata": {},
   "outputs": [
    {
     "name": "stdout",
     "output_type": "stream",
     "text": [
      "Recursive L:\n",
      "[[ 1.          0.          0.          0.        ]\n",
      " [ 2.1482052   1.          0.          0.        ]\n",
      " [ 0.42593581  0.61508625  1.          0.        ]\n",
      " [ 1.56780618  0.26627265 -0.30643925  1.        ]]\n",
      "Recursive U:\n",
      "[[ 0.37792419  0.07962609  0.98281711  0.18161286]\n",
      " [ 0.          0.70390847 -1.42287958  0.17935273]\n",
      " [ 0.          0.          0.80174872  0.03736715]\n",
      " [ 0.          0.          0.          0.5885958 ]]\n"
     ]
    }
   ],
   "source": [
    "L, U = lu_recursive(A)\n",
    "print(\"Recursive L:\")\n",
    "print(L)\n",
    "print(\"Recursive U:\")\n",
    "print(U)"
   ]
  },
  {
   "cell_type": "code",
   "execution_count": 74,
   "metadata": {},
   "outputs": [
    {
     "name": "stdout",
     "output_type": "stream",
     "text": [
      "L * U:\n",
      "[[0.37792419 0.07962609 0.98281711 0.18161286]\n",
      " [0.8118587  0.87496165 0.68841326 0.56949442]\n",
      " [0.16097145 0.46688003 0.34517206 0.22503997]\n",
      " [0.59251187 0.31226984 0.91630555 0.90963553]]\n"
     ]
    }
   ],
   "source": [
    "print(\"L * U:\")\n",
    "print(L @ U)"
   ]
  },
  {
   "cell_type": "code",
   "execution_count": 75,
   "metadata": {},
   "outputs": [
    {
     "name": "stdout",
     "output_type": "stream",
     "text": [
      "Recursive determinant:\n",
      "0.12553831950684474\n"
     ]
    }
   ],
   "source": [
    "A_det = recursive_determinant_lu(A)\n",
    "print(\"Recursive determinant:\")\n",
    "print(A_det)"
   ]
  },
  {
   "cell_type": "code",
   "execution_count": 78,
   "metadata": {},
   "outputs": [
    {
     "name": "stdout",
     "output_type": "stream",
     "text": [
      "NumPy determinant:\n",
      "0.12553831950684471\n"
     ]
    }
   ],
   "source": [
    "A_det_np = np.linalg.det(A)\n",
    "print(\"NumPy determinant:\")\n",
    "print(A_det_np)"
   ]
  },
  {
   "cell_type": "code",
   "execution_count": 81,
   "metadata": {},
   "outputs": [
    {
     "name": "stdout",
     "output_type": "stream",
     "text": [
      "Recursive Gaussian elimination:\n",
      "[-0.68424742  0.07643672  0.41719395  0.54842062]\n"
     ]
    }
   ],
   "source": [
    "x = recursive_gaussian_elimination(A, b)\n",
    "print(\"Recursive Gaussian elimination:\")\n",
    "print(x)"
   ]
  },
  {
   "cell_type": "code",
   "execution_count": 82,
   "metadata": {},
   "outputs": [
    {
     "name": "stdout",
     "output_type": "stream",
     "text": [
      "NumPy Gaussian elimination:\n",
      "[-0.68424742  0.07643672  0.41719395  0.54842062]\n"
     ]
    }
   ],
   "source": [
    "x_np = np.linalg.solve(A, b)\n",
    "print(\"NumPy Gaussian elimination:\")\n",
    "print(x_np)"
   ]
  }
 ],
 "metadata": {
  "kernelspec": {
   "display_name": "Python 3",
   "language": "python",
   "name": "python3"
  },
  "language_info": {
   "codemirror_mode": {
    "name": "ipython",
    "version": 3
   },
   "file_extension": ".py",
   "mimetype": "text/x-python",
   "name": "python",
   "nbconvert_exporter": "python",
   "pygments_lexer": "ipython3",
   "version": "3.12.2"
  }
 },
 "nbformat": 4,
 "nbformat_minor": 2
}
